{
 "cells": [
  {
   "cell_type": "code",
   "execution_count": 1,
   "metadata": {},
   "outputs": [
    {
     "name": "stdout",
     "output_type": "stream",
     "text": [
      "['1', '10', '100', '101', '102', '103', '104', '105', '106', '107', '108', '109', '11', '110', '111', '112', '113', '114', '115', '116', '117', '118', '119', '12', '120', '121', '122', '123', '124', '125', '126', '127', '128', '129', '13', '130', '131', '132', '133', '134', '135', '136', '137', '138', '139', '14', '140', '141', '142', '143', '144', '145', '146', '147', '148', '149', '15', '150', '151', '152', '153', '154', '155', '156', '157', '158', '159', '16', '160', '161', '162', '163', '164', '165', '166', '167', '168', '169', '17', '170', '171', '172', '173', '174', '175', '176', '177', '178', '179', '18', '180', '181', '182', '183', '184', '185', '186', '187', '188', '189', '19', '190', '191', '192', '193', '194', '195', '196', '197', '198', '199', '2', '20', '200', '21', '22', '23', '24', '25', '26', '27', '28', '29', '3', '30', '31', '32', '33', '34', '35', '36', '37', '38', '39', '4', '40', '41', '42', '43', '44', '45', '46', '47', '48', '49', '5', '50', '51', '52', '53', '54', '55', '56', '57', '58', '59', '6', '60', '61', '62', '63', '64', '65', '66', '67', '68', '69', '7', '70', '71', '72', '73', '74', '75', '76', '77', '78', '79', '8', '80', '81', '82', '83', '84', '85', '86', '87', '88', '89', '9', '90', '91', '92', '93', '94', '95', '96', '97', '98', '99']\n"
     ]
    }
   ],
   "source": [
    "import os\n",
    "training_folder_name = '../data/faces/training'\n",
    "img_size = (128,128)\n",
    "classes = sorted(os.listdir(training_folder_name))\n",
    "print(classes)"
   ]
  },
  {
   "cell_type": "code",
   "execution_count": 2,
   "metadata": {
    "scrolled": false
   },
   "outputs": [
    {
     "name": "stdout",
     "output_type": "stream",
     "text": [
      "Requirement already up-to-date: keras in /home/nbuser/anaconda3_501/lib/python3.6/site-packages (2.3.1)\n",
      "Requirement already satisfied, skipping upgrade: six>=1.9.0 in /home/nbuser/anaconda3_501/lib/python3.6/site-packages (from keras) (1.11.0)\n",
      "Requirement already satisfied, skipping upgrade: h5py in /home/nbuser/anaconda3_501/lib/python3.6/site-packages (from keras) (2.8.0)\n",
      "Requirement already satisfied, skipping upgrade: keras-preprocessing>=1.0.5 in /home/nbuser/anaconda3_501/lib/python3.6/site-packages (from keras) (1.1.0)\n",
      "Requirement already satisfied, skipping upgrade: scipy>=0.14 in /home/nbuser/anaconda3_501/lib/python3.6/site-packages (from keras) (1.1.0)\n",
      "Requirement already satisfied, skipping upgrade: pyyaml in /home/nbuser/anaconda3_501/lib/python3.6/site-packages (from keras) (3.13)\n",
      "Requirement already satisfied, skipping upgrade: keras-applications>=1.0.6 in /home/nbuser/anaconda3_501/lib/python3.6/site-packages (from keras) (1.0.8)\n",
      "Requirement already satisfied, skipping upgrade: numpy>=1.9.1 in /home/nbuser/anaconda3_501/lib/python3.6/site-packages (from keras) (1.16.2)\n"
     ]
    },
    {
     "name": "stderr",
     "output_type": "stream",
     "text": [
      "Using TensorFlow backend.\n"
     ]
    },
    {
     "name": "stdout",
     "output_type": "stream",
     "text": [
      "Keras version: 2.3.1\n"
     ]
    }
   ],
   "source": [
    "!pip install --upgrade keras\n",
    "import sys\n",
    "import keras\n",
    "print('Keras version:',keras.__version__)\n",
    "\n",
    "from keras import backend as K"
   ]
  },
  {
   "cell_type": "code",
   "execution_count": 3,
   "metadata": {},
   "outputs": [
    {
     "name": "stdout",
     "output_type": "stream",
     "text": [
      "Getting Data...\n",
      "Preparing training dataset...\n",
      "Found 2000 images belonging to 200 classes.\n",
      "Preparing validation dataset...\n",
      "Found 800 images belonging to 200 classes.\n"
     ]
    }
   ],
   "source": [
    "from keras.preprocessing.image import ImageDataGenerator\n",
    "\n",
    "batch_size = 30\n",
    "datagen = ImageDataGenerator(rescale=1./255, # normalize pixel values\n",
    "                             validation_split=0.3) # hold back 30% of the images for validation\n",
    "\n",
    "train_generator = datagen.flow_from_directory(\n",
    "    training_folder_name,\n",
    "    target_size=img_size,\n",
    "    batch_size=batch_size,\n",
    "    class_mode='categorical',\n",
    "    subset='training') # set as training data\n",
    "validation_generator = datagen.flow_from_directory(\n",
    "    training_folder_name,\n",
    "    target_size=img_size,\n",
    "    batch_size=batch_size,\n",
    "    class_mode='categorical',\n",
    "    subset='validation') # set as validation data\n"
   ]
  },
  {
   "cell_type": "code",
   "execution_count": 4,
   "metadata": {},
   "outputs": [
    {
     "name": "stdout",
     "output_type": "stream",
     "text": [
      "Model: \"sequential_1\"\n",
      "_________________________________________________________________\n",
      "Layer (type)                 Output Shape              Param #   \n",
      "=================================================================\n",
      "conv2d_1 (Conv2D)            (None, 123, 123, 32)      3488      \n",
      "_________________________________________________________________\n",
      "max_pooling2d_1 (MaxPooling2 (None, 61, 61, 32)        0         \n",
      "_________________________________________________________________\n",
      "conv2d_2 (Conv2D)            (None, 56, 56, 32)        36896     \n",
      "_________________________________________________________________\n",
      "max_pooling2d_2 (MaxPooling2 (None, 28, 28, 32)        0         \n",
      "_________________________________________________________________\n",
      "flatten_1 (Flatten)          (None, 25088)             0         \n",
      "_________________________________________________________________\n",
      "dense_1 (Dense)              (None, 200)               5017800   \n",
      "=================================================================\n",
      "Total params: 5,058,184\n",
      "Trainable params: 5,058,184\n",
      "Non-trainable params: 0\n",
      "_________________________________________________________________\n",
      "None\n"
     ]
    }
   ],
   "source": [
    "# Define a CNN classifier network\n",
    "from keras.models import Sequential\n",
    "from keras.layers import Conv2D, MaxPooling2D\n",
    "from keras.layers import Activation, Flatten, Dense\n",
    "from keras import optimizers\n",
    "\n",
    "# Define the model as a sequence of layers\n",
    "model = Sequential()\n",
    "model.add(Conv2D(32, (6, 6), input_shape=train_generator.image_shape, activation='relu'))\n",
    "model.add(MaxPooling2D(pool_size=(2,2)))\n",
    "model.add(Conv2D(32, (6, 6), activation='relu'))\n",
    "model.add(MaxPooling2D(pool_size=(2, 2)))\n",
    "model.add(Flatten())\n",
    "model.add(Dense(train_generator.num_classes, activation='softmax'))\n",
    "opt = optimizers.Adam(lr=0.001)\n",
    "model.compile(loss='categorical_crossentropy',\n",
    "              optimizer=opt,\n",
    "              metrics=['accuracy'])\n",
    "\n",
    "print(model.summary())"
   ]
  },
  {
   "cell_type": "code",
   "execution_count": 5,
   "metadata": {},
   "outputs": [
    {
     "name": "stdout",
     "output_type": "stream",
     "text": [
      "Epoch 1/10\n",
      "66/66 [==============================] - 1192s 18s/step - loss: 4.0000 - accuracy: 0.2325 - val_loss: 2.4390 - val_accuracy: 0.4436\n",
      "Epoch 2/10\n",
      "66/66 [==============================] - 1129s 17s/step - loss: 0.3847 - accuracy: 0.9081 - val_loss: 1.7555 - val_accuracy: 0.5753\n",
      "Epoch 3/10\n",
      "66/66 [==============================] - 1134s 17s/step - loss: 0.1174 - accuracy: 0.9756 - val_loss: 2.3093 - val_accuracy: 0.6364\n",
      "Epoch 4/10\n",
      "66/66 [==============================] - 1102s 17s/step - loss: 0.0523 - accuracy: 0.9904 - val_loss: 2.8085 - val_accuracy: 0.6169\n",
      "Epoch 5/10\n",
      "66/66 [==============================] - 1055s 16s/step - loss: 0.0496 - accuracy: 0.9898 - val_loss: 2.8156 - val_accuracy: 0.6325\n",
      "Epoch 6/10\n",
      "66/66 [==============================] - 1126s 17s/step - loss: 0.0416 - accuracy: 0.9894 - val_loss: 1.7557 - val_accuracy: 0.6221\n",
      "Epoch 7/10\n",
      "66/66 [==============================] - 1184s 18s/step - loss: 0.0530 - accuracy: 0.9883 - val_loss: 3.0994 - val_accuracy: 0.6351\n",
      "Epoch 8/10\n",
      "66/66 [==============================] - 1215s 18s/step - loss: 0.0661 - accuracy: 0.9848 - val_loss: 3.2036 - val_accuracy: 0.5870\n",
      "Epoch 9/10\n",
      "66/66 [==============================] - 1196s 18s/step - loss: 0.0741 - accuracy: 0.9822 - val_loss: 2.3439 - val_accuracy: 0.5429\n",
      "Epoch 10/10\n",
      "66/66 [==============================] - 1215s 18s/step - loss: 0.0902 - accuracy: 0.9802 - val_loss: 1.4212 - val_accuracy: 0.5481\n"
     ]
    }
   ],
   "source": [
    "# Train the model over 10 epochs\n",
    "num_epochs = 10\n",
    "history = model.fit_generator(\n",
    "    train_generator,\n",
    "    steps_per_epoch = train_generator.samples // batch_size,\n",
    "    validation_data = validation_generator, \n",
    "    validation_steps = validation_generator.samples // batch_size,\n",
    "    epochs = num_epochs)"
   ]
  },
  {
   "cell_type": "code",
   "execution_count": 6,
   "metadata": {},
   "outputs": [
    {
     "name": "stderr",
     "output_type": "stream",
     "text": [
      "/home/nbuser/anaconda3_501/lib/python3.6/site-packages/matplotlib/font_manager.py:229: UserWarning: Matplotlib is building the font cache using fc-list. This may take a moment.\n",
      "  'Matplotlib is building the font cache using fc-list. '\n"
     ]
    },
    {
     "data": {
      "image/png": "[encoded data removed]",
      "text/plain": [
       "<Figure size 432x288 with 1 Axes>"
      ]
     },
     "metadata": {
      "needs_background": "light"
     },
     "output_type": "display_data"
    }
   ],
   "source": [
    "%matplotlib inline\n",
    "from matplotlib import pyplot as plt\n",
    "\n",
    "epoch_nums = range(1,num_epochs+1)\n",
    "training_loss = history.history[\"loss\"]\n",
    "validation_loss = history.history[\"val_loss\"]\n",
    "plt.plot(epoch_nums, training_loss)\n",
    "plt.plot(epoch_nums, validation_loss)\n",
    "plt.xlabel('epoch')\n",
    "plt.ylabel('loss')\n",
    "plt.legend(['training', 'validation'], loc='upper right')\n",
    "plt.show()"
   ]
  }
 ],
 "metadata": {
  "kernelspec": {
   "display_name": "Python 3.6",
   "language": "python",
   "name": "python36"
  },
  "language_info": {
   "codemirror_mode": {
    "name": "ipython",
    "version": 3
   },
   "file_extension": ".py",
   "mimetype": "text/x-python",
   "name": "python",
   "nbconvert_exporter": "python",
   "pygments_lexer": "ipython3",
   "version": "3.6.6"
  }
 },
 "nbformat": 4,
 "nbformat_minor": 2
}
