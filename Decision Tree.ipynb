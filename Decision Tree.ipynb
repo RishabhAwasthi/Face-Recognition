{
 "cells": [
  {
   "cell_type": "markdown",
   "metadata": {},
   "source": [
    "# Image Classification with SciKit-Learn (Decision Tree)\n",
    "\n"
   ]
  },
  {
   "cell_type": "code",
   "execution_count": 36,
   "metadata": {},
   "outputs": [
    {
     "name": "stdout",
     "output_type": "stream",
     "text": [
      "Reading data from 1\n"
     ]
    },
    {
     "name": "stderr",
     "output_type": "stream",
     "text": [
      "/home/nbuser/anaconda3_501/lib/python3.6/site-packages/ipykernel/__main__.py:22: DeprecationWarning: `imresize` is deprecated!\n",
      "`imresize` is deprecated in SciPy 1.0.0, and will be removed in 1.2.0.\n",
      "Use ``skimage.transform.resize`` instead.\n"
     ]
    },
    {
     "name": "stdout",
     "output_type": "stream",
     "text": [
      "Reading data from 10\n",
      "Reading data from 11\n",
      "Reading data from 12\n",
      "Reading data from 13\n",
      "Reading data from 14\n",
      "Reading data from 15\n",
      "Reading data from 16\n",
      "Reading data from 17\n",
      "Reading data from 18\n",
      "Reading data from 19\n",
      "Reading data from 2\n",
      "Reading data from 20\n",
      "Reading data from 3\n",
      "Reading data from 4\n",
      "Reading data from 5\n",
      "Reading data from 6\n",
      "Reading data from 7\n",
      "Reading data from 8\n",
      "Reading data from 9\n",
      "280 features\n",
      "280 labels\n",
      "20 classes: ['1', '10', '11', '12', '13', '14', '15', '16', '17', '18', '19', '2', '20', '3', '4', '5', '6', '7', '8', '9']\n"
     ]
    }
   ],
   "source": [
    "from scipy import ndimage, misc\n",
    "def prep_data (folder):\n",
    "    # iterate through folders, assembling feature, label, and classname data objects\n",
    "    import os\n",
    "    import numpy as np\n",
    "    import matplotlib.pyplot as plt\n",
    "\n",
    "    class_id = 0\n",
    "    features = []\n",
    "    labels = np.array([])\n",
    "    classnames = []\n",
    "    for root, dirs, filenames in os.walk(folder):\n",
    "        for d in sorted(dirs):\n",
    "\n",
    "            classnames.append(d)\n",
    "            files = os.listdir(os.path.join(root,d))\n",
    "            for f in files:\n",
    "                # Load the image file\n",
    "                imgFile = os.path.join(root,d, f)\n",
    "                img = plt.imread(imgFile)\n",
    "                img = misc.imresize(img, (128, 128))\n",
    "\n",
    "                features.append(img.ravel())\n",
    "                \n",
    "\n",
    "                labels = np.append(labels, class_id )\n",
    "            class_id  += 1\n",
    "            \n",
    "\n",
    "    features = np.array(features)\n",
    "    \n",
    "    return features, labels, classnames\n",
    "\n",
    "\n",
    "\n",
    "training_folder_name = '../data/faces/training'\n",
    "\n",
    "\n",
    "features, labels, classnames = prep_data(training_folder_name)\n",
    "print(len(features), 'features')\n",
    "print(len(labels), 'labels')\n",
    "print(len(classnames), 'classes:', classnames)"
   ]
  },
  {
   "cell_type": "code",
   "execution_count": 37,
   "metadata": {},
   "outputs": [
    {
     "name": "stdout",
     "output_type": "stream",
     "text": [
      "Feature Shape: (280, 49152)\n",
      "Labels Shape: (280,)\n"
     ]
    }
   ],
   "source": [
    "print('Feature Shape:',features.shape)\n",
    "print('Labels Shape:',labels.shape)"
   ]
  },
  {
   "cell_type": "code",
   "execution_count": 38,
   "metadata": {},
   "outputs": [
    {
     "name": "stdout",
     "output_type": "stream",
     "text": [
      "Training records: 196\n",
      "Test records: 84\n"
     ]
    }
   ],
   "source": [
    "\n",
    "from sklearn.model_selection import train_test_split\n",
    "\n",
    "X_train, X_test, Y_train, Y_test = train_test_split(features, labels, test_size=0.30)\n",
    "\n",
    "print('Training records:',Y_train.size)\n",
    "print('Test records:',Y_test.size)"
   ]
  },
  {
   "cell_type": "code",
   "execution_count": 39,
   "metadata": {},
   "outputs": [
    {
     "name": "stdout",
     "output_type": "stream",
     "text": [
      "Training model...\n",
      "classifier trained!\n"
     ]
    }
   ],
   "source": [
    "# Train the model\n",
    "from sklearn.pipeline import Pipeline\n",
    "from sklearn.preprocessing import MinMaxScaler\n",
    "from sklearn.tree import DecisionTreeClassifier\n",
    "\n",
    "X_train_float = X_train.astype('float64')\n",
    "\n",
    "img_pipeline = Pipeline([('norm', MinMaxScaler()),\n",
    "                         ('classify', DecisionTreeClassifier()),\n",
    "                        ])\n",
    "\n",
    "clf = img_pipeline.fit(X_train_float, Y_train)\n",
    "\n"
   ]
  },
  {
   "cell_type": "code",
   "execution_count": 40,
   "metadata": {},
   "outputs": [
    {
     "name": "stdout",
     "output_type": "stream",
     "text": [
      "Classifier Metrics:\n",
      "              precision    recall  f1-score   support\n",
      "\n",
      "           1       0.86      0.86      0.86         7\n",
      "          10       1.00      1.00      1.00         5\n",
      "          11       1.00      0.83      0.91         6\n",
      "          12       1.00      1.00      1.00         3\n",
      "          13       0.20      1.00      0.33         1\n",
      "          14       1.00      0.50      0.67         2\n",
      "          15       1.00      0.50      0.67         2\n",
      "          16       1.00      0.75      0.86         4\n",
      "          17       0.60      0.75      0.67         4\n",
      "          18       1.00      0.67      0.80         3\n",
      "          19       1.00      0.67      0.80         6\n",
      "           2       0.50      0.75      0.60         4\n",
      "          20       1.00      0.50      0.67         8\n",
      "           3       0.43      0.50      0.46         6\n",
      "           4       0.75      0.75      0.75         4\n",
      "           5       1.00      0.33      0.50         6\n",
      "           6       0.83      0.83      0.83         6\n",
      "           7       0.40      0.67      0.50         3\n",
      "           8       1.00      1.00      1.00         3\n",
      "           9       0.17      1.00      0.29         1\n",
      "\n",
      "   micro avg       0.71      0.71      0.71        84\n",
      "   macro avg       0.79      0.74      0.71        84\n",
      "weighted avg       0.84      0.71      0.74        84\n",
      "\n",
      "Accuracy: 71.43%\n",
      "\n",
      " Confusion Matrix:\n"
     ]
    },
    {
     "data": {
      "image/png": "[encoded data removed]",
      "text/plain": [
       "<Figure size 432x288 with 2 Axes>"
      ]
     },
     "metadata": {
      "needs_background": "light"
     },
     "output_type": "display_data"
    }
   ],
   "source": [
    "# Evaluate classifier\n",
    "from sklearn import metrics\n",
    "from sklearn.metrics import accuracy_score, confusion_matrix\n",
    "import numpy as np\n",
    "import matplotlib.pyplot as plt\n",
    "%matplotlib inline\n",
    "\n",
    "X_test_float = X_test.astype('float64')\n",
    "\n",
    "predictions = clf.predict(X_test)\n",
    "\n",
    "\n",
    "cm = confusion_matrix(Y_test, np.round(predictions, 0))\n",
    "plt.imshow(cm, interpolation=\"nearest\", cmap=plt.cm.Blues)\n",
    "plt.colorbar()\n",
    "tick_marks = np.arange(len(classnames))\n",
    "plt.xticks(tick_marks, classnames, rotation=85)\n",
    "plt.yticks(tick_marks, classnames)\n",
    "plt.xlabel(\"Predicted Label\")\n",
    "plt.ylabel(\"True Label\")\n",
    "plt.show()"
   ]
  }
 ],
 "metadata": {
  "kernelspec": {
   "display_name": "Python 3.6",
   "language": "python",
   "name": "python36"
  },
  "language_info": {
   "codemirror_mode": {
    "name": "ipython",
    "version": 3
   },
   "file_extension": ".py",
   "mimetype": "text/x-python",
   "name": "python",
   "nbconvert_exporter": "python",
   "pygments_lexer": "ipython3",
   "version": "3.6.6"
  }
 },
 "nbformat": 4,
 "nbformat_minor": 2
}
